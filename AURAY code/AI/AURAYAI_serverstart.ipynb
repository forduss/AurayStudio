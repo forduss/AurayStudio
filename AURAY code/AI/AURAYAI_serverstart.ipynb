{
 "cells": [
  {
   "cell_type": "markdown",
   "metadata": {},
   "source": [
    "### 2. AI 챗봇 - Flask 서버 및 db 대화 규칙 그리고 챗봇 실행"
   ]
  },
  {
   "cell_type": "code",
   "execution_count": 1,
   "metadata": {},
   "outputs": [],
   "source": [
    "# 필요한 것 임포트\n",
    "\n",
    "from flask import Flask, request, jsonify\n",
    "from flask_cors import CORS\n",
    "import sqlite3\n",
    "import nltk\n",
    "from nltk.chat.util import Chat, reflections\n",
    "import json"
   ]
  },
  {
   "cell_type": "code",
   "execution_count": 2,
   "metadata": {},
   "outputs": [
    {
     "name": "stderr",
     "output_type": "stream",
     "text": [
      "[nltk_data] Downloading package punkt to\n",
      "[nltk_data]     C:\\Users\\admin\\AppData\\Roaming\\nltk_data...\n",
      "[nltk_data]   Package punkt is already up-to-date!\n"
     ]
    },
    {
     "data": {
      "text/plain": [
       "<flask_cors.extension.CORS at 0x17709f44250>"
      ]
     },
     "execution_count": 2,
     "metadata": {},
     "output_type": "execute_result"
    }
   ],
   "source": [
    "# NLTK 다운로드 \n",
    "# NLTK는 일부 말뭉치와 모델을 별도로 다운로드해야 하므로, punkt 패키지가 없으면 토큰화 함수들이 제대로 작동하지 않습니다\n",
    "nltk.download('punkt') \n",
    "\n",
    "app = Flask (__name__)\n",
    "CORS(app)"
   ]
  },
  {
   "cell_type": "code",
   "execution_count": 3,
   "metadata": {},
   "outputs": [],
   "source": [
    "# 데이터베이스에서 대화 규칙 불러오기\n",
    "def load_auraystudio_from_db():\n",
    "    conn = sqlite3.connect('auraystudio.db')\n",
    "    cursor = conn.cursor()\n",
    "    cursor.execute('SELECT pattern, response FROM chatbot_rules')\n",
    "    rows = cursor.fetchall()\n",
    "    conn.close()\n",
    "\n",
    "    pairs = []\n",
    "    for pattern, response in rows:\n",
    "        response_list = json.loads(response)  # JSON 형식으로 저장된 응답을 리스트로 변환\n",
    "        pairs.append([pattern, response_list])\n",
    "    return pairs"
   ]
  },
  {
   "cell_type": "code",
   "execution_count": 4,
   "metadata": {},
   "outputs": [],
   "source": [
    "# DB에서 규칙 불러오기\n",
    "pairs = load_auraystudio_from_db()"
   ]
  },
  {
   "cell_type": "code",
   "execution_count": 5,
   "metadata": {},
   "outputs": [],
   "source": [
    "# 챗봇 인스턴스 생성\n",
    "chatbot = Chat(pairs, reflections)"
   ]
  },
  {
   "cell_type": "code",
   "execution_count": 6,
   "metadata": {},
   "outputs": [
    {
     "name": "stdout",
     "output_type": "stream",
     "text": [
      " * Serving Flask app '__main__'\n",
      " * Debug mode: off\n"
     ]
    },
    {
     "name": "stderr",
     "output_type": "stream",
     "text": [
      "WARNING: This is a development server. Do not use it in a production deployment. Use a production WSGI server instead.\n",
      " * Running on all addresses (0.0.0.0)\n",
      " * Running on http://127.0.0.1:5000\n",
      " * Running on http://192.168.1.17:5000\n",
      "Press CTRL+C to quit\n",
      "192.168.1.17 - - [30/Sep/2024 10:06:05] \"OPTIONS /chatbot HTTP/1.1\" 200 -\n",
      "192.168.1.17 - - [30/Sep/2024 10:06:05] \"POST /chatbot HTTP/1.1\" 200 -\n"
     ]
    }
   ],
   "source": [
    "@app.route ('/chatbot', methods=['POST'])\n",
    "def chatbot_response () :\n",
    "    try:\n",
    "        user_message = request.json.get('message')\n",
    "        bot_response = chatbot.respond(user_message)\n",
    "        return jsonify({'response' : bot_response})\n",
    "    except Exception as e :\n",
    "        return jsonify({'error' : str(e)}), 500\n",
    "\n",
    "# 아래처럼 적으면 localhost주소로만 넘어가게 되어 네트워크로는 안돌아가기 때문에\n",
    "#  (host='0.0.0.0', port=5000) 모든 ip에서 접근가능하게 설정할 수 있는 코드\n",
    "\n",
    "# 1번째 : 모든 ip에서 접근 불가능하게 하고 싶을 때\n",
    "#if __name__ == '__main__' :\n",
    "#    app.run(port=5000)\n",
    "\n",
    "# 2번째 : 모든 ip에서 접근 가능하게 하고 싶을 때\n",
    "if __name__ == '__main__':\n",
    "    app.run(host='0.0.0.0', port=5000)"
   ]
  }
 ],
 "metadata": {
  "kernelspec": {
   "display_name": "Python 3",
   "language": "python",
   "name": "python3"
  },
  "language_info": {
   "codemirror_mode": {
    "name": "ipython",
    "version": 3
   },
   "file_extension": ".py",
   "mimetype": "text/x-python",
   "name": "python",
   "nbconvert_exporter": "python",
   "pygments_lexer": "ipython3",
   "version": "3.11.9"
  }
 },
 "nbformat": 4,
 "nbformat_minor": 2
}
